{
 "cells": [
  {
   "cell_type": "markdown",
   "id": "abe0607b",
   "metadata": {},
   "source": [
    "## Connecting to database"
   ]
  },
  {
   "cell_type": "code",
   "execution_count": 1,
   "id": "915a54ba",
   "metadata": {},
   "outputs": [],
   "source": [
    "import mysql.connector"
   ]
  },
  {
   "cell_type": "code",
   "execution_count": 2,
   "id": "f6fd0f3b",
   "metadata": {},
   "outputs": [],
   "source": [
    "myDb = mysql.connector.connect(host = \"localhost\",\n",
    "                              user = \"root\",\n",
    "                              password = \"student\")"
   ]
  },
  {
   "cell_type": "code",
   "execution_count": 3,
   "id": "3fe9ee32",
   "metadata": {},
   "outputs": [],
   "source": [
    "myCursor = myDb.cursor(buffered = True)"
   ]
  },
  {
   "cell_type": "code",
   "execution_count": 4,
   "id": "f0f46a46",
   "metadata": {},
   "outputs": [],
   "source": [
    "# comment after creating the database\n",
    "#myCursor.execute(\"CREATE DATABASE ifaTabTrack\")"
   ]
  },
  {
   "cell_type": "code",
   "execution_count": 5,
   "id": "f8ba0920",
   "metadata": {},
   "outputs": [],
   "source": [
    "# using the database \n",
    "myCursor.execute(\"USE ifaTabTrack\")"
   ]
  },
  {
   "cell_type": "markdown",
   "id": "9d1175d1",
   "metadata": {},
   "source": [
    "## Creating the table"
   ]
  },
  {
   "cell_type": "markdown",
   "id": "e6169f63",
   "metadata": {},
   "source": [
    "Creating the first table for new entry of students. \n",
    "\n",
    "The attributes considered are :-\n",
    "1. Roll no\n",
    "2. Name \n",
    "3. Age\n",
    "4. Gender\n",
    "5. Height\n",
    "6. Weight"
   ]
  },
  {
   "cell_type": "code",
   "execution_count": 6,
   "id": "2092d9c9",
   "metadata": {},
   "outputs": [],
   "source": [
    "## comment this after creating the table\n",
    "\n",
    "#myCursor.execute(\"CREATE TABLE newStud (RollNo int PRIMARY KEY, Name VARCHAR(255) NOT NULL, Age INT NOT NULL, Gender VARCHAR(10) NOT NULL, Height FLOAT NOT NULL, Weight FLOAT NOT NULL)\")\n"
   ]
  },
  {
   "cell_type": "markdown",
   "id": "8ebb303e",
   "metadata": {},
   "source": [
    "Creating the second table for entry of the IFA tablet taken date of each student\n",
    "\n",
    "The attributes considered are :-\n",
    "1. Roll no\n",
    "2. Date taken"
   ]
  },
  {
   "cell_type": "code",
   "execution_count": 7,
   "id": "d9e81a36",
   "metadata": {},
   "outputs": [],
   "source": [
    "## comment this after creating the table\n",
    "#myCursor.execute(\"CREATE TABLE tabTaken(RollNo INT NOT NULL, DateTaken DATE, CONSTRAINT rnFk FOREIGN KEY(RollNo) REFERENCES newStud(RollNo))\")"
   ]
  },
  {
   "cell_type": "markdown",
   "id": "a081b3d9",
   "metadata": {},
   "source": [
    "Describing the table"
   ]
  },
  {
   "cell_type": "code",
   "execution_count": 12,
   "id": "d87d96af",
   "metadata": {},
   "outputs": [],
   "source": [
    "def DescTable(col):\n",
    "    myCursor.execute(f\"DESc {col}\")\n",
    "    myRes = myCursor.column_names\n",
    "    for x in myRes:\n",
    "        print(x, '   | ',end = \" \")\n",
    "    print()\n",
    "    \n",
    "    row = myCursor.fetchall()\n",
    "    for i in row:\n",
    "        for j in i:\n",
    "            print(j, '   | ', end = \"\")\n",
    "        print()\n"
   ]
  },
  {
   "cell_type": "code",
   "execution_count": 14,
   "id": "25d3d5e0",
   "metadata": {},
   "outputs": [
    {
     "name": "stdout",
     "output_type": "stream",
     "text": [
      "Field    |  Type    |  Null    |  Key    |  Default    |  Extra    |  \n",
      "RollNo    | b'int'    | NO    | PRI    | None    |     | \n",
      "Name    | b'varchar(255)'    | NO    |     | None    |     | \n",
      "Age    | b'int'    | NO    |     | None    |     | \n",
      "Gender    | b'varchar(10)'    | NO    |     | None    |     | \n",
      "Height    | b'float'    | NO    |     | None    |     | \n",
      "Weight    | b'float'    | NO    |     | None    |     | \n"
     ]
    }
   ],
   "source": [
    "DescTable(\"newStud\")"
   ]
  },
  {
   "cell_type": "code",
   "execution_count": 15,
   "id": "829ae67b",
   "metadata": {},
   "outputs": [
    {
     "name": "stdout",
     "output_type": "stream",
     "text": [
      "Field    |  Type    |  Null    |  Key    |  Default    |  Extra    |  \n",
      "RollNo    | b'int'    | NO    | MUL    | None    |     | \n",
      "DateTaken    | b'date'    | YES    |     | None    |     | \n"
     ]
    }
   ],
   "source": [
    "DescTable(\"tabTaken\")"
   ]
  },
  {
   "cell_type": "code",
   "execution_count": null,
   "id": "889d1560",
   "metadata": {},
   "outputs": [],
   "source": []
  }
 ],
 "metadata": {
  "kernelspec": {
   "display_name": "Python 3",
   "language": "python",
   "name": "python3"
  },
  "language_info": {
   "codemirror_mode": {
    "name": "ipython",
    "version": 3
   },
   "file_extension": ".py",
   "mimetype": "text/x-python",
   "name": "python",
   "nbconvert_exporter": "python",
   "pygments_lexer": "ipython3",
   "version": "3.8.8"
  }
 },
 "nbformat": 4,
 "nbformat_minor": 5
}
